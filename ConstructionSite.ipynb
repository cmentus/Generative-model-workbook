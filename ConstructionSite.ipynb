{
 "cells": [
  {
   "cell_type": "code",
   "execution_count": null,
   "metadata": {
    "id": "1UcPLanmdrG2"
   },
   "outputs": [],
   "source": [
    "import os\n",
    "os.environ['TF_CPP_MIN_LOG_LEVEL'] = '3'\n",
    "import tensorflow as tf\n",
    "from tensorflow.keras import backend as K\n",
    "from tensorflow.keras import Model,layers, regularizers\n",
    "\n",
    "import numpy as np\n",
    "import time\n",
    "import pandas as pd\n",
    "from matplotlib import pyplot as plt"
   ]
  },
  {
   "cell_type": "markdown",
   "metadata": {
    "id": "JAVue5mRaZFi"
   },
   "source": [
    "# Constructing GAN\n",
    "## Define loss\n",
    "* Wasserstein loss\n",
    "* JS divergence"
   ]
  },
  {
   "cell_type": "code",
   "execution_count": null,
   "metadata": {
    "colab": {
     "base_uri": "https://localhost:8080/"
    },
    "id": "SurNVAnXNINh",
    "outputId": "54315042-7bdc-4010-e149-907aa188f0b2"
   },
   "outputs": [],
   "source": [
    "generator_encoded=keras.models.load_model(\"drive/MyDrive/GAN/generator_encoded_epoch300\")\n",
    "discriminator=keras.models.load_model(\"drive/MyDrive/GAN/discriminator_epoch300\")"
   ]
  },
  {
   "cell_type": "code",
   "execution_count": null,
   "metadata": {
    "id": "QOXGAun7d13Q"
   },
   "outputs": [],
   "source": [
    "wasserstein=True\n",
    "cross_entropy = keras.losses.BinaryCrossentropy(from_logits=True)\n",
    "if wasserstein==False:\n",
    "\n",
    "else:\n",
    "\n"
   ]
  },
  {
   "cell_type": "markdown",
   "metadata": {
    "id": "KvY8xTVvLyrp"
   },
   "source": [
    "## Generator"
   ]
  },
  {
   "cell_type": "code",
   "execution_count": null,
   "metadata": {
    "id": "u7l4zEXLd5yV"
   },
   "outputs": [],
   "source": [
    "#generator is our generator model\n",
    "def make_generator(n_output, n_input = 100, hidden_widths = [128,128,128],minibatch_avg=True):\n",
    "    ''' Make generator for data of data_dim number of fields. The input_dim represents the noise but could be used for style transfer.\n",
    "    gen_hidden_widths are the widths of the hidden layers of the nn'''\n",
    "    gen_input_layer = layers.Input(shape=(n_input,),name=\"GeneratorInput\")\n",
    "    gen_input_batch_norm=layers.BatchNormalization(name=\"GenBNInput\")(gen_input_layer)\n",
    "\n",
    "\n",
    "    gen_hidden_layers=[layers.Dense(units=hidden_widths[0],activation=tf.nn.relu,name=\"GenHiddenLayer0\")(gen_input_batch_norm)]\n",
    "\n",
    "    for i in range(1,len(hidden_widths)):\n",
    "        gen_hidden_layers=gen_hidden_layers+[layers.BatchNormalization(name=\"GenBNLayer\"+str(i))(gen_hidden_layers[-1])]\n",
    "        gen_hidden_layers=gen_hidden_layers+[layers.Dense(units=hidden_widths[i],activation=tf.nn.leaky_relu,\n",
    "                                                          name=\"GenHiddenLayer\"+str(i))(gen_hidden_layers[-1])]\n",
    "        gen_hidden_layers=gen_hidden_layers+\\\n",
    "        [layers.Add(name=\"GenSkipLayer\"+str(i))((gen_hidden_layers[-1],gen_hidden_layers[-3]))]\n",
    "\n",
    "\n",
    "    gen_output=layers.Dense(units=n_output,activation=tf.keras.activations.linear,\n",
    "                                                          name=\"GenOutput\")(gen_hidden_layers[-1])\n",
    "    if(minibatch_avg):\n",
    "        gen_output_avg=tf.reduce_mean(gen_output,axis=0,keepdims=True,name=\"GenOutputAverage\")*\\\n",
    "        tf.ones(shape=tf.shape(gen_output))\n",
    "\n",
    "        generator=tf.keras.Model(\n",
    "            inputs=[gen_input_layer],\n",
    "            outputs=[gen_output,gen_output_avg],\n",
    "        )\n",
    "        return generator\n",
    "    else:\n",
    "        generator=tf.keras.Model(\n",
    "            inputs=[gen_input_layer],\n",
    "            outputs=[gen_output],\n",
    "        )\n",
    "        return generator\n",
    "        \n",
    "\n"
   ]
  },
  {
   "cell_type": "code",
   "execution_count": null,
   "metadata": {},
   "outputs": [],
   "source": [
    "generator = make_generator(n_output = 1,n_input = 100, hidden_widths=[128])\n",
    "tf.keras.utils.plot_model(generator, \"images/generator_test_minibatch.png\")\n",
    "generator1 = make_generator(n_output = 1,n_input = 100, hidden_widths=[128],minibatch_avg=False)\n",
    "tf.keras.utils.plot_model(generator1, \"images/generator_test.png\")"
   ]
  },
  {
   "cell_type": "markdown",
   "metadata": {
    "id": "k4G0vfJIwn_X"
   },
   "source": [
    "## Discriminator"
   ]
  },
  {
   "cell_type": "code",
   "execution_count": null,
   "metadata": {
    "id": "zDQjYaLZd8Ct"
   },
   "outputs": [],
   "source": [
    "disc_hidden_widths=[128,256,256]\n",
    "def make_discriminator(n_input, gan_type = \"W\",hidden_widths = [128,128,128],minibatch_avg=True):\n",
    "    if minibatch_avg:\n",
    "        disc_input_layer=layers.Input(shape=(n_input,),name=\"DiscriminatorInput\")\n",
    "        disc_avg_input_layer=layers.Input(shape=(n_input,),name=\"DiscriminatorAverageInput\")\n",
    "        disc_allinput=layers.Concatenate(name=\"DiscriminatorAllInput\")((disc_input_layer,\n",
    "                                                                                    disc_avg_input_layer,\n",
    "                                                                                   ))\n",
    "    else:\n",
    "        disc_allinput=layers.Input(shape=(n_input,),name=\"DiscriminatorAllInput\")\n",
    "    \n",
    "    disc_hidden_layers=[layers.Dense(units=disc_hidden_widths[0],activation=tf.nn.leaky_relu,name=\"DiscHiddenLayer0\")(disc_allinput)]\n",
    "\n",
    "    for i in range(1,len(disc_hidden_widths)):\n",
    "        disc_hidden_layers=disc_hidden_layers+\\\n",
    "        [layers.Dense(units=disc_hidden_widths[i],activation=tf.nn.leaky_relu,name=\"DiscHiddenLayer\"+str(i))(disc_hidden_layers[-1])]\n",
    "    if gan_type==\"JS\":\n",
    "        disc_output=layers.Dense(units=1,activation=tf.nn.sigmoid,name=\"DiscriminatorOutput\")(disc_hidden_layers[-1])\n",
    "    if gan_type==\"W\":\n",
    "        disc_output=layers.Dense(units=1,activation=tf.keras.activations.linear,name=\"DiscriminatorOutput\")(disc_hidden_layers[-1])\n",
    "    \n",
    "    if minibatch_avg:\n",
    "        discriminator=tf.keras.Model(\n",
    "            inputs=[disc_input_layer,disc_avg_input_layer],\n",
    "            outputs=[disc_output]\n",
    "        )\n",
    "        return discriminator\n",
    "    else:\n",
    "        discriminator=tf.keras.Model(\n",
    "            inputs=disc_allinput,\n",
    "            outputs=[disc_output]\n",
    "        )\n",
    "        return discriminator\n",
    "        "
   ]
  },
  {
   "cell_type": "code",
   "execution_count": null,
   "metadata": {},
   "outputs": [],
   "source": [
    "discriminator = make_discriminator(n_input=10, gan_type = \"W\",hidden_widths = [128,128,128],minibatch_avg=True)\n",
    "tf.keras.utils.plot_model(discriminator, \"images/discriminator_test_minibatch.png\")\n",
    "discriminator1 = make_discriminator(n_input=10, gan_type = \"W\",hidden_widths = [128,128,128],minibatch_avg=False)\n",
    "tf.keras.utils.plot_model(discriminator1, \"images/discriminator_test.png\")"
   ]
  },
  {
   "cell_type": "markdown",
   "metadata": {},
   "source": [
    "# Discriminator and Generator Losses"
   ]
  },
  {
   "cell_type": "code",
   "execution_count": null,
   "metadata": {},
   "outputs": [],
   "source": [
    "def w_discriminator_loss(real_output,fake_output):\n",
    "    real_loss = -tf.reduce_mean(real_output)    #\n",
    "    fake_loss = tf.reduce_mean(fake_output) #smaller \n",
    "    total_loss = real_loss + fake_loss\n",
    "    return total_loss\n",
    "def w_generator_loss(fake_output):\n",
    "    return -tf.reduce_mean(fake_output)\n",
    "w_generator_optimizer = tf.keras.optimizers.Adam(learning_rate=1e-4,beta_1=.5)\n",
    "w_discriminator_optimizer = tf.keras.optimizers.Adam(learning_rate=1e-4,beta_1=.5)"
   ]
  },
  {
   "cell_type": "code",
   "execution_count": null,
   "metadata": {},
   "outputs": [],
   "source": [
    "#gradient penalty\n",
    "def discriminator_gradient_penalty_ma(real_output,fake_output,discriminator):\n",
    "    batch_shape=tf.shape(real_output)\n",
    "    uniform_rand = tf.random.uniform(shape=batch_shape, maxval=1)\n",
    "    mask_fake = uniform_rand #tf.math.greater(.5, uniform_rand)\n",
    "    mask_fake = tf.cast(mask_fake,\"float32\")\n",
    "    mask_real = (1.-mask_fake)\n",
    "    mixed_real_fake = (mask_fake*fake_output[0] + mask_real*real_output[0],\\\n",
    "                               mask_fake*fake_output[1] + mask_real*real_output[1])\n",
    "    with tf.GradientTape() as g:\n",
    "        g.watch(mixed_real_fake)\n",
    "        y = discriminator(mixed_real_fake)\n",
    "    disc_gradient = g.gradient(y, mixed_real_fake)\n",
    "    gradient_penalty = tf.reduce_mean(tf.square(\n",
    "        tf.sqrt(tf.reduce_sum(tf.square(tf.concat(disc_gradient,axis=1)),axis=1))\\\n",
    "        - tf.ones(shape=(batch_shape[0],1))))\n",
    "    return gradient_penalty\n",
    "\n",
    "\n",
    "def discriminator_gradient_penalty(real_output,fake_output,discriminator):\n",
    "    batch_shape=tf.shape(real_output)\n",
    "    uniform_rand = tf.random.uniform(shape=batch_shape, maxval=1)\n",
    "    mask_fake = uniform_rand #tf.math.greater(.5, uniform_rand)\n",
    "    mask_fake = tf.cast(mask_fake,\"float32\")\n",
    "    mask_real = (1.-mask_fake)\n",
    "    mixed_real_fake = (mask_fake*fake_output[0] + mask_real*real_output,\\\n",
    "                               mask_fake*fake_output[1] + mask_real*real_output)\n",
    "    with tf.GradientTape() as g:\n",
    "        g.watch(mixed_real_fake)\n",
    "        y = discriminator(mixed_real_fake)\n",
    "    disc_gradient = g.gradient(y, mixed_real_fake)\n",
    "    gradient_penalty = tf.reduce_mean(tf.square(\n",
    "        tf.sqrt(tf.reduce_sum(tf.square(tf.concat(disc_gradient,axis=1)),axis=1))\\\n",
    "        - tf.ones(shape=(batch_shape[0],1))))\n",
    "    return gradient_penalty"
   ]
  },
  {
   "cell_type": "code",
   "execution_count": null,
   "metadata": {},
   "outputs": [],
   "source": [
    "\n",
    "discriminator((tf.random.normal((1,10)),tf.random.normal((1,10))))\n",
    "discriminator_gradient_penalty((tf.random.normal((1,10)),tf.random.normal((1,10))),\n",
    "                               (tf.random.normal((1,10)),tf.random.normal((1,10))),discriminator)\n"
   ]
  },
  {
   "cell_type": "markdown",
   "metadata": {
    "id": "tMmSN3betjuL"
   },
   "source": [
    "# Training loop for Generator Discriminator pair"
   ]
  },
  {
   "cell_type": "code",
   "execution_count": null,
   "metadata": {},
   "outputs": [],
   "source": [
    "# This is meant to be a very general training step for systems of GAN\n",
    "def train_step(generators, #dictionary string -> generator\n",
    "               discriminators, #dictionary string -> discriminator\n",
    "               real_data, #dictionary string for discriminator -> real data\n",
    "               gen_objective, #dictionary string -> objective function\n",
    "               disc_objective,\n",
    "               gen_input,\n",
    "               gen_optimizers,\n",
    "               disc_optimizers, #dictionary string ->optimizer\n",
    "               gen_num_steps,\n",
    "               disc_num_steps#dictionary string -> number of steps\n",
    "               ): \n",
    "    \n",
    "    for gan, D in discriminators.items():\n",
    "        G = generators[gan]\n",
    "        real_batch = real_data[gan]\n",
    "        for i in range(disc_num_steps[gan]):\n",
    "            with tf.GradientTape() as D_tape:\n",
    "                generated_batch = G(gen_input[gan], training = True)\n",
    "                fake_disc_class = D(generated_batch, training=True)\n",
    "                real_disc_class = D(real_batch, training=True)\n",
    "                disc_obj = disc_objective[gan](real_batch, generated_batch)\n",
    "            grad_D= D_tape.gradient(disc_obj, D.trainable_variables)\n",
    "            disc_optimizers[gan].apply_gradients(zip(grad_D, D.trainable_variables))\n",
    "        #print(\"discriminator objective \",disc_objective[gan](real_batch, generated_batch))\n",
    "        \n",
    "        for i in range(gen_num_steps[gan]):\n",
    "            with tf.GradientTape() as G_tape:\n",
    "                generated_batch = G(gen_input[gan], training = True)\n",
    "                fake_disc_class = D(generated_batch, training=True)\n",
    "                gen_obj = gen_objective[gan](real_batch,generated_batch,gen_input[gan])\n",
    "            grad_G= G_tape.gradient(gen_obj, G.trainable_variables)\n",
    "            gen_optimizers[gan].apply_gradients(zip(grad_G, G.trainable_variables))\n",
    "        #print(\"generator objective \",gen_objective[gan](generated_batch))\n",
    " \n",
    "                \n",
    "\n",
    "\n"
   ]
  },
  {
   "cell_type": "markdown",
   "metadata": {},
   "source": [
    "# Tests"
   ]
  },
  {
   "cell_type": "code",
   "execution_count": null,
   "metadata": {},
   "outputs": [],
   "source": [
    "#Let's test it out. GAN with minibatch\n",
    "G = make_generator(n_output = 2,n_input = 10, hidden_widths=[128,128,128])\n",
    "tf.keras.utils.plot_model(G0, \"images/generator_training1.png\")\n",
    "\n",
    "D = make_discriminator(n_input=2, gan_type = \"W\",hidden_widths = [128,128,128],minibatch_avg=True)\n",
    "tf.keras.utils.plot_model(D0, \"images/discriminator_training1.png\")\n",
    "\n",
    "\n",
    "def D_OBJECTIVE(real_data,fake_data):\n",
    "    return w_discriminator_loss(D(real_data),D(fake_data)) + discriminator_gradient_penalty_ma(real_data,fake_data,D)\n",
    "def G_OBJECTIVE(real_data,fake_data,gen_input):\n",
    "    return w_generator_loss(D(fake_data))\n",
    "test_data = tf.random.normal((5,2))\n",
    "test_data = (test_data,\n",
    "            tf.reduce_mean(test_data,axis = 0)*\\\n",
    "            tf.ones(shape = np.shape(test_data),dtype = \"float32\"))\n",
    "\n",
    "test_noise= tf.random.normal((5,10))\n",
    "\n",
    "print(G(test_noise))\n",
    "print(D(test_data,G(test_noise)))\n",
    "\n",
    "\n",
    "\n",
    "\n"
   ]
  },
  {
   "cell_type": "code",
   "execution_count": null,
   "metadata": {},
   "outputs": [],
   "source": [
    "gen_objective[gan](fake_disc_class)\n",
    "fake_disc_class"
   ]
  },
  {
   "cell_type": "code",
   "execution_count": null,
   "metadata": {},
   "outputs": [],
   "source": [
    "r = tf.convert_to_tensor(np.r_[\n",
    "    np.random.normal([1,1],.2,size=(250,2)),\n",
    "    np.random.normal([-1,1],.25,size=(250,2)),\n",
    "    np.random.normal([1,-1],.25,size=(250,2)),\n",
    "    np.random.normal([-1,-1],.25,size=(250,2))],dtype = \"float32\")\n",
    "test_data = (r,\n",
    "        tf.reduce_mean(r,axis = 0)*\\\n",
    "        tf.ones(shape = np.shape(r),dtype = \"float32\"))\n",
    "real_data = {\"GAN0\" : test_data}\n",
    "f,ax = plt.subplots(figsize=(5,5))\n",
    "ax.scatter(r[:,0],r[:,1],label=\"real data\")\n",
    "\n",
    "test_noise0= tf.random.normal((1000,10))\n",
    "gen_data = G(test_noise0)\n",
    "ax.scatter(gen_data[0][:,0],gen_data[0][:,1],label=\"synthetic data\")\n",
    "\n",
    "\n",
    "def D_OBJECTIVE(real_data,fake_data):\n",
    "    return w_discriminator_loss(D(real_data),D(fake_data)) + discriminator_gradient_penalty_ma(real_data,fake_data,D)\n",
    "def G_OBJECTIVE(real_data,fake_data,gen_input):\n",
    "    return w_generator_loss(D(fake_data))\n",
    "print(D_OBJECTIVE(test_data,gen_data))"
   ]
  },
  {
   "cell_type": "markdown",
   "metadata": {},
   "source": [
    "# Challenge 1. GAN makes mixture of gaussian from noise"
   ]
  },
  {
   "cell_type": "code",
   "execution_count": null,
   "metadata": {},
   "outputs": [],
   "source": [
    "import imageio\n",
    "import glob\n",
    "n_input = 10\n",
    "G = make_generator(n_output = 2,n_input = 10, hidden_widths=[64,64])\n",
    "tf.keras.utils.plot_model(G0, \"images/generator_training1.png\")\n",
    "\n",
    "D = make_discriminator(n_input=2, gan_type = \"W\",hidden_widths = [64,64],minibatch_avg=True)\n",
    "tf.keras.utils.plot_model(D0, \"images/discriminator_training1.png\")\n",
    "\n",
    "\n",
    "def D_OBJECTIVE(real_data,fake_data):\n",
    "    return w_discriminator_loss(D(real_data),D(fake_data)) + 100*discriminator_gradient_penalty_ma(real_data,fake_data,D)\n",
    "def G_OBJECTIVE(real_data,fake_data,gen_input):\n",
    "    return w_generator_loss(D(fake_data))\n",
    "plt.ioff()\n",
    "\n",
    "d_losses=[]\n",
    "g_losses=[]\n",
    "d_objs = []\n",
    "for i in range(100):\n",
    "    r = tf.convert_to_tensor(np.r_[\n",
    "    np.random.normal([1,1],.2,size=(250,2)),\n",
    "    np.random.normal([-1,1],.25,size=(250,2)),\n",
    "    np.random.normal([1,-1],.25,size=(250,2)),\n",
    "    np.random.normal([-1,-1],.25,size=(250,2))],dtype = \"float32\")\n",
    "    test_data = (r,\n",
    "            tf.reduce_mean(r,axis = 0)*\\\n",
    "            tf.ones(shape = np.shape(r),dtype = \"float32\"))\n",
    "    real_data = {\"GAN0\" : test_data}\n",
    "    gen_input = {\"GAN0\": tf.random.normal((1000,n_input))}\n",
    "    train_step(generators = {\"GAN0\" : G}, #dictionary string -> generator\n",
    "                   discriminators = {\"GAN0\" : D}, #dictionary string -> discriminator\n",
    "                   real_data = real_data, #dictionary string for discriminator -> real data\n",
    "                   gen_objective = {\"GAN0\": G_OBJECTIVE}, #dictionary string -> objective function\n",
    "                   disc_objective = {\"GAN0\" : D_OBJECTIVE},\n",
    "                   gen_input = gen_input,\n",
    "                   gen_optimizers = {\"GAN0\" : w_generator_optimizer},\n",
    "                   disc_optimizers = {\"GAN0\" : w_discriminator_optimizer}, #dictionary string ->optimizer\n",
    "                   gen_num_steps = {\"GAN0\" :1},\n",
    "                   disc_num_steps = {\"GAN0\":5}#dictionary string -> number of steps\n",
    "                  )\n",
    "    if i%10 == 0:\n",
    "        print(\"step \"+str(i))\n",
    "        f,ax = plt.subplots(figsize=(5,5))\n",
    "        ax.scatter(r[:,0],r[:,1],label=\"real data\")\n",
    "\n",
    "        test_noise0= tf.random.normal((100,10))\n",
    "        gen_data = G(test_noise0)\n",
    "        ax.scatter(gen_data[0][:,0],gen_data[0][:,1],label=\"synthetic data\")\n",
    "        ax.legend()\n",
    "        ax.set_xlim([-6,6])\n",
    "        ax.set_ylim([-6,6])\n",
    "        f.savefig(\"step\"+str(i/10)+\".png\")\n",
    "        d_losses = d_losses+[w_discriminator_loss(D(real_data[\"GAN0\"]),D(G(gen_input[\"GAN0\"])))]\n",
    "        g_losses = g_losses +[w_generator_loss(G(gen_input[\"GAN0\"]))]\n",
    "        d_objs = d_objs + [D_OBJECTIVE(real_data[\"GAN0\"],G(gen_input[\"GAN0\"]))]\n",
    "        print(\"disc loss:\",w_discriminator_loss(D(real_data[\"GAN0\"]),D(G(gen_input[\"GAN0\"]))))\n",
    "        print(\"gen_loss:\",w_generator_loss(G(gen_input[\"GAN0\"])))\n",
    "    "
   ]
  },
  {
   "cell_type": "code",
   "execution_count": null,
   "metadata": {},
   "outputs": [],
   "source": [
    "anim_file=\"gan.gif\"        \n",
    "with imageio.get_writer(anim_file, mode='I') as writer:\n",
    "    filenames = glob.glob('step*.png')\n",
    "    filenames = sorted(filenames)\n",
    "    for filename in filenames:\n",
    "        image = imageio.imread(filename)\n",
    "        writer.append_data(image)\n",
    "    image = imageio.imread(filename)\n",
    "    writer.append_data(image)"
   ]
  },
  {
   "cell_type": "code",
   "execution_count": null,
   "metadata": {},
   "outputs": [],
   "source": [
    "f,ax = plt.subplots(figsize=(5,5))\n",
    "ax.scatter(r[:,0],r[:,1],label=\"real data\")\n",
    "\n",
    "test_noise0= tf.random.normal((1000,10))\n",
    "gen_data = G(test_noise0)\n",
    "ax.scatter(gen_data[0][:,0],gen_data[0][:,1],label=\"synthetic data\")\n",
    "ax.legend()\n",
    "f.savefig(\"optimizedgan.png\")"
   ]
  },
  {
   "cell_type": "code",
   "execution_count": null,
   "metadata": {},
   "outputs": [],
   "source": [
    "f,ax = plt.subplots(figsize=(10,5))\n",
    "ax.plot(g_losses,label=\"generator loss\")\n",
    "ax.plot(d_losses,label=\"discriminator loss\")\n",
    "ax.plot(d_objs,label=\"discriminator loss+gradient penalty\")\n",
    "f.legend()\n",
    "f.savefig(\"loss.png\")"
   ]
  },
  {
   "cell_type": "markdown",
   "metadata": {},
   "source": [
    "# Challenge 2 Train Style GAN for transforming the vertical noisy sin to the horizontal sin"
   ]
  },
  {
   "cell_type": "code",
   "execution_count": null,
   "metadata": {},
   "outputs": [],
   "source": [
    "f,ax = plt.subplots (figsize=(10,10))\n",
    "X_RAND1 = np.random.normal(0,2,1000)\n",
    "Y_RAND1 = np.sin(X_RAND1*2)+np.random.normal(0,.1,1000)\n",
    "ax.scatter(X_RAND1,Y_RAND1)\n",
    "\n",
    "f,ax = plt.subplots (figsize=(10,10))\n",
    "Y_RAND2 = np.random.normal(0,5,1000)\n",
    "X_RAND2 = np.power(Y_RAND2,1)*np.sin(Y_RAND2)+np.random.normal(0,.5,1000)\n",
    "ax.scatter(X_RAND2,Y_RAND2)"
   ]
  },
  {
   "cell_type": "code",
   "execution_count": null,
   "metadata": {},
   "outputs": [],
   "source": [
    "G_hv = make_generator(n_output = 2,n_input = 2, hidden_widths=[128,128])\n",
    "tf.keras.utils.plot_model(G0, \"images/generator_cycle1.png\")\n",
    "\n",
    "D_hv = make_discriminator(n_input=2, gan_type = \"W\",hidden_widths = [128,128],minibatch_avg=True)\n",
    "tf.keras.utils.plot_model(D0, \"images/discriminator_cycle1.png\")\n",
    "\n",
    "G_vh = make_generator(n_output = 2,n_input = 2, hidden_widths=[128,128])\n",
    "tf.keras.utils.plot_model(G0, \"images/generator_cycle2.png\")\n",
    "\n",
    "D_vh = make_discriminator(n_input=2, gan_type = \"W\",hidden_widths = [128,128],minibatch_avg=True)\n",
    "tf.keras.utils.plot_model(D0, \"images/discriminator_cycle2.png\")\n",
    "\n",
    "\n",
    "\n",
    "def D_hv_OBJECTIVE(real_data,fake_data):\n",
    "    return w_discriminator_loss(D_hv(real_data),D_hv(fake_data)) + 100*discriminator_gradient_penalty_ma(real_data,fake_data,D_hv)\n",
    "\n",
    "\n",
    "def G_hv_OBJECTIVE(real_data,fake_data,gen_input):\n",
    "    return w_generator_loss(D_hv(fake_data))+ .05*(tf.reduce_mean(tf.losses.mae(G_vh(G_hv(gen_input)),gen_input)) + \\\n",
    "tf.reduce_mean(tf.losses.mae(G_hv(G_vh(real_data)),real_data)))\n",
    "\n",
    "def D_vh_OBJECTIVE(real_data,fake_data):\n",
    "    return w_discriminator_loss(D_vh(real_data),D_vh(fake_data)) + 100*discriminator_gradient_penalty_ma(real_data,fake_data,D_vh)\n",
    "\n",
    "\n",
    "def G_vh_OBJECTIVE(real_data,fake_data,gen_input):\n",
    "    return w_generator_loss(D_vh(fake_data)) + .05*tf.reduce_mean(tf.losses.mae(G_hv(G_vh(gen_input)),gen_input) + tf.losses.mae(G_vh(G_hv(real_data)),real_data))\n",
    "\n",
    "generators = {\"hv\" : G_hv,\"vh\" : G_vh}\n",
    "discriminators = {\"hv\" : D_hv,\"vh\" : D_vh}\n",
    "gen_objective = {\"hv\" : G_hv_OBJECTIVE,\"vh\" : G_vh_OBJECTIVE}\n",
    "disc_objective = {\"hv\" : D_hv_OBJECTIVE,\"vh\" : D_vh_OBJECTIVE}"
   ]
  },
  {
   "cell_type": "code",
   "execution_count": null,
   "metadata": {},
   "outputs": [],
   "source": [
    "f, ax = plt.subplots(2,2,figsize=(10,10))\n",
    "fake_h = G_vh(tf.convert_to_tensor(np.c_[X_RAND2,Y_RAND2]))\n",
    "ax[0,0].scatter(X_RAND1,Y_RAND1,label=\"real data\")\n",
    "ax[0,0].scatter(fake_h[0][:,0],fake_h[0][:,1],label=\"from v data\")\n",
    "ax[0,0].set_xlim([-6,6])\n",
    "ax[0,0].set_ylim([-6,6])\n",
    "ax[0,0].set_title(\"generate horizontal sin\")\n",
    "\n",
    "fake_v = G_hv(tf.convert_to_tensor(np.c_[X_RAND1,Y_RAND1]))\n",
    "ax[0,1].scatter(X_RAND2,Y_RAND2,label=\"real data\")\n",
    "ax[0,1].scatter(fake_v[0][:,0],fake_v[0][:,1],label=\"from h data\")\n",
    "ax[0,1].set_xlim([-12,12])\n",
    "ax[0,1].set_ylim([-12,12])\n",
    "ax[0,1].set_title(\"generate vertical sin\")\n",
    "\n",
    "fake_hvh = G_vh(G_hv(tf.convert_to_tensor(np.c_[X_RAND1,Y_RAND1])))\n",
    "ax[1,0].scatter(X_RAND1,Y_RAND1,label=\"real data\")\n",
    "ax[1,0].scatter(fake_hvh[0][:,0],fake_hvh[0][:,1],label=\"from cycle\")\n",
    "ax[1,0].set_xlim([-6,6])\n",
    "ax[1,0].set_ylim([-6,6])\n",
    "ax[1,0].set_title(\"horizontal sin cycle gen\")\n",
    "\n",
    "fake_vhv = G_vh(G_hv(tf.convert_to_tensor(np.c_[X_RAND2,Y_RAND2])))\n",
    "ax[1,1].scatter(X_RAND2,Y_RAND2,label=\"real data\")\n",
    "ax[1,1].scatter(fake_vhv[0][:,0],fake_vhv[0][:,1],label=\"from cycle\")\n",
    "ax[1,1].set_xlim([-12,12])\n",
    "ax[1,1].set_ylim([-12,12])\n",
    "ax[1,1].set_title(\"vertical sin cycle gen\")\n",
    "\n",
    "f.savefig(\"cycle\"+str(i)+\".png\")\n",
    "\n",
    "G_hv_OBJECTIVE(real_v,G_hv(real_h),real_h)\n",
    "G_vh_OBJECTIVE(real_h,G_vh(real_v),real_v)"
   ]
  },
  {
   "cell_type": "code",
   "execution_count": null,
   "metadata": {},
   "outputs": [],
   "source": [
    "real_h\n",
    "#tf.reduce_mean(real_v,axis = 0)*tf.ones(shape = np.shape(real_v),dtype = \"float32\")\n",
    "tf.reduce_mean(r,axis = 0)\n",
    "#tf.ones(shape = np.shape(r),dtype = \"float32\")\n",
    "real_v = tf.convert_to_tensor(np.c_[X_RAND2,Y_RAND2],dtype=\"float32\")\n",
    "tf.reduce_mean(real_v,axis = 0)*tf.ones(shape = np.shape(real_v),dtype = \"float32\")"
   ]
  },
  {
   "cell_type": "code",
   "execution_count": null,
   "metadata": {},
   "outputs": [],
   "source": []
  },
  {
   "cell_type": "code",
   "execution_count": null,
   "metadata": {},
   "outputs": [],
   "source": [
    "dhv_losses=[]\n",
    "dvh_losses=[]\n",
    "ghv_losses=[]\n",
    "gvh_losses=[]\n",
    "plt.ioff()\n",
    "for i in range(10000):\n",
    "    X_RAND1 = np.random.normal(0,2,1000)\n",
    "    Y_RAND1 = np.sin(X_RAND1*2)+np.random.normal(0,.1,1000)\n",
    "    real_h = tf.convert_to_tensor(np.c_[X_RAND1,Y_RAND1],dtype=\"float32\")\n",
    "    Y_RAND2 = np.random.normal(0,5,1000)\n",
    "    X_RAND2 = np.power(Y_RAND2,1)*np.sin(Y_RAND2)+np.random.normal(0,.5,1000)\n",
    "    real_v = tf.convert_to_tensor(np.c_[X_RAND2,Y_RAND2],dtype=\"float32\")\n",
    "    gen_input = {\"hv\" : real_h, \"vh\": real_v}\n",
    "    real_data = {\"hv\": (real_v, tf.reduce_mean(real_v,axis = 0)*\\\n",
    "                tf.ones(shape = np.shape(real_v),dtype = \"float32\")),\n",
    "                \"vh\": (real_h, tf.reduce_mean(real_h,axis = 0)*\\\n",
    "                tf.ones(shape = np.shape(real_h),dtype = \"float32\"))}\n",
    "    #Step 1. Convert h to v\n",
    "    #Step 2. Convert v to h\n",
    "    \n",
    "    train_step(generators = generators, #dictionary string -> generator\n",
    "                   discriminators = discriminators, #dictionary string -> discriminator\n",
    "                   real_data = real_data, #dictionary string for discriminator -> real data\n",
    "                   gen_objective = gen_objective, #dictionary string -> objective function\n",
    "                   disc_objective = disc_objective,\n",
    "                   gen_input = gen_input,\n",
    "                   gen_optimizers = {\"hv\" : w_generator_optimizer, \"vh\":w_generator_optimizer },\n",
    "                   disc_optimizers = {\"hv\" : w_discriminator_optimizer, \"vh\" : w_discriminator_optimizer}, #dictionary string ->optimizer\n",
    "                   gen_num_steps = {\"hv\":1,\"vh\":1},\n",
    "                   disc_num_steps = {\"hv\":5,\"vh\":5}#dictionary string -> number of steps\n",
    "                  )\n",
    "    if i%10 == 0:\n",
    "        \n",
    "        dhv_losses = dhv_losses+[w_discriminator_loss(D_hv(real_data[\"hv\"]),D_hv(G_hv(gen_input[\"hv\"])))]\n",
    "        dvh_losses = dvh_losses+[w_discriminator_loss(D_vh(real_data[\"vh\"]),D_vh(G_vh(gen_input[\"vh\"])))]\n",
    "        ghv_losses = ghv_losses +[w_generator_loss(G_hv(gen_input[\"hv\"]))]\n",
    "        gvh_losses = gvh_losses +[w_generator_loss(G_vh(gen_input[\"vh\"]))]\n",
    "\n",
    "        print(\"disc hv loss:\",w_discriminator_loss(D_hv(real_data[\"hv\"]),D_hv(G_hv(gen_input[\"hv\"]))))\n",
    "        print(\"disc vh loss:\",w_discriminator_loss(D_vh(real_data[\"vh\"]),D_hv(G_vh(gen_input[\"vh\"]))))\n",
    "        print(\"gen vh loss:\",w_generator_loss(G_vh(gen_input[\"vh\"])))\n",
    "        print(\"gen hv loss:\",w_generator_loss(G_hv(gen_input[\"hv\"])))\n",
    "        \n",
    "        f, ax = plt.subplots(2,2,figsize=(10,10))\n",
    "        fake_h = G_vh(tf.convert_to_tensor(np.c_[X_RAND2,Y_RAND2]))\n",
    "        ax[0,0].scatter(X_RAND1,Y_RAND1,label=\"real data\")\n",
    "        ax[0,0].scatter(fake_h[0][:,0],fake_h[0][:,1],label=\"from v data\")\n",
    "        ax[0,0].set_xlim([-6,6])\n",
    "        ax[0,0].set_ylim([-6,6])\n",
    "        ax[0,0].set_title(\"generate horizontal sin\")\n",
    "\n",
    "        fake_v = G_hv(tf.convert_to_tensor(np.c_[X_RAND1,Y_RAND1]))\n",
    "        ax[0,1].scatter(X_RAND2,Y_RAND2,label=\"real data\")\n",
    "        ax[0,1].scatter(fake_v[0][:,0],fake_v[0][:,1],label=\"from h data\")\n",
    "        ax[0,1].set_xlim([-12,12])\n",
    "        ax[0,1].set_ylim([-12,12])\n",
    "        ax[0,1].set_title(\"generate vertical sin\")\n",
    "\n",
    "        fake_hvh = G_vh(G_hv(tf.convert_to_tensor(np.c_[X_RAND1,Y_RAND1])))\n",
    "        ax[1,0].scatter(X_RAND1,Y_RAND1,label=\"real data\")\n",
    "        ax[1,0].scatter(fake_hvh[0][:,0],fake_hvh[0][:,1],label=\"from cycle\")\n",
    "        ax[1,0].set_xlim([-6,6])\n",
    "        ax[1,0].set_ylim([-6,6])\n",
    "        ax[1,0].set_title(\"horizontal sin cycle gen\")\n",
    "\n",
    "        fake_vhv = G_vh(G_hv(tf.convert_to_tensor(np.c_[X_RAND2,Y_RAND2])))\n",
    "        ax[1,1].scatter(X_RAND2,Y_RAND2,label=\"real data\")\n",
    "        ax[1,1].scatter(fake_vhv[0][:,0],fake_vhv[0][:,1],label=\"from cycle\")\n",
    "        ax[1,1].set_xlim([-12,12])\n",
    "        ax[1,1].set_ylim([-12,12])\n",
    "        ax[1,1].set_title(\"vertical sin cycle gen\")\n",
    "\n",
    "        f.savefig(\"cycle\"+str(i)+\".png\")"
   ]
  },
  {
   "cell_type": "code",
   "execution_count": 282,
   "metadata": {},
   "outputs": [
    {
     "data": {
      "image/png": "[encoded data removed]",
      "text/plain": [
       "<Figure size 720x360 with 1 Axes>"
      ]
     },
     "metadata": {
      "needs_background": "light"
     },
     "output_type": "display_data"
    }
   ],
   "source": [
    "f,ax = plt.subplots(figsize=(10,5))\n",
    "ax.plot(ghv_losses,label=\"generator hv loss\")\n",
    "ax.plot(dhv_losses,label=\"discriminator  hv loss\")\n",
    "ax.plot(gvh_losses,label=\"generator vh loss\")\n",
    "ax.plot(dvh_losses,label=\"discriminator  vh loss\")\n",
    "\n",
    "f.legend()\n",
    "f.savefig(\"cycleloss.png\")"
   ]
  },
  {
   "cell_type": "code",
   "execution_count": 281,
   "metadata": {},
   "outputs": [
    {
     "ename": "FileNotFoundError",
     "evalue": "No such file: 'C:\\Users\\cmentus\\Documents\\GitHub\\GenerativeModels\\step99.0.png'",
     "output_type": "error",
     "traceback": [
      "\u001b[1;31m---------------------------------------------------------------------------\u001b[0m",
      "\u001b[1;31mFileNotFoundError\u001b[0m                         Traceback (most recent call last)",
      "\u001b[1;32m<ipython-input-281-ab1c740f802b>\u001b[0m in \u001b[0;36m<module>\u001b[1;34m\u001b[0m\n\u001b[0;32m      6\u001b[0m         \u001b[0mimage\u001b[0m \u001b[1;33m=\u001b[0m \u001b[0mimageio\u001b[0m\u001b[1;33m.\u001b[0m\u001b[0mimread\u001b[0m\u001b[1;33m(\u001b[0m\u001b[0mfilename\u001b[0m\u001b[1;33m)\u001b[0m\u001b[1;33m\u001b[0m\u001b[1;33m\u001b[0m\u001b[0m\n\u001b[0;32m      7\u001b[0m         \u001b[0mwriter\u001b[0m\u001b[1;33m.\u001b[0m\u001b[0mappend_data\u001b[0m\u001b[1;33m(\u001b[0m\u001b[0mimage\u001b[0m\u001b[1;33m)\u001b[0m\u001b[1;33m\u001b[0m\u001b[1;33m\u001b[0m\u001b[0m\n\u001b[1;32m----> 8\u001b[1;33m     \u001b[0mimage\u001b[0m \u001b[1;33m=\u001b[0m \u001b[0mimageio\u001b[0m\u001b[1;33m.\u001b[0m\u001b[0mimread\u001b[0m\u001b[1;33m(\u001b[0m\u001b[0mfilename\u001b[0m\u001b[1;33m)\u001b[0m\u001b[1;33m\u001b[0m\u001b[1;33m\u001b[0m\u001b[0m\n\u001b[0m\u001b[0;32m      9\u001b[0m     \u001b[0mwriter\u001b[0m\u001b[1;33m.\u001b[0m\u001b[0mappend_data\u001b[0m\u001b[1;33m(\u001b[0m\u001b[0mimage\u001b[0m\u001b[1;33m)\u001b[0m\u001b[1;33m\u001b[0m\u001b[1;33m\u001b[0m\u001b[0m\n",
      "\u001b[1;32m~\\Anaconda3\\lib\\site-packages\\imageio\\core\\functions.py\u001b[0m in \u001b[0;36mimread\u001b[1;34m(uri, format, **kwargs)\u001b[0m\n\u001b[0;32m    263\u001b[0m \u001b[1;33m\u001b[0m\u001b[0m\n\u001b[0;32m    264\u001b[0m     \u001b[1;31m# Get reader and read first\u001b[0m\u001b[1;33m\u001b[0m\u001b[1;33m\u001b[0m\u001b[1;33m\u001b[0m\u001b[0m\n\u001b[1;32m--> 265\u001b[1;33m     \u001b[0mreader\u001b[0m \u001b[1;33m=\u001b[0m \u001b[0mread\u001b[0m\u001b[1;33m(\u001b[0m\u001b[0muri\u001b[0m\u001b[1;33m,\u001b[0m \u001b[0mformat\u001b[0m\u001b[1;33m,\u001b[0m \u001b[1;34m\"i\"\u001b[0m\u001b[1;33m,\u001b[0m \u001b[1;33m**\u001b[0m\u001b[0mkwargs\u001b[0m\u001b[1;33m)\u001b[0m\u001b[1;33m\u001b[0m\u001b[1;33m\u001b[0m\u001b[0m\n\u001b[0m\u001b[0;32m    266\u001b[0m     \u001b[1;32mwith\u001b[0m \u001b[0mreader\u001b[0m\u001b[1;33m:\u001b[0m\u001b[1;33m\u001b[0m\u001b[1;33m\u001b[0m\u001b[0m\n\u001b[0;32m    267\u001b[0m         \u001b[1;32mreturn\u001b[0m \u001b[0mreader\u001b[0m\u001b[1;33m.\u001b[0m\u001b[0mget_data\u001b[0m\u001b[1;33m(\u001b[0m\u001b[1;36m0\u001b[0m\u001b[1;33m)\u001b[0m\u001b[1;33m\u001b[0m\u001b[1;33m\u001b[0m\u001b[0m\n",
      "\u001b[1;32m~\\Anaconda3\\lib\\site-packages\\imageio\\core\\functions.py\u001b[0m in \u001b[0;36mget_reader\u001b[1;34m(uri, format, mode, **kwargs)\u001b[0m\n\u001b[0;32m    170\u001b[0m \u001b[1;33m\u001b[0m\u001b[0m\n\u001b[0;32m    171\u001b[0m     \u001b[1;31m# Create request object\u001b[0m\u001b[1;33m\u001b[0m\u001b[1;33m\u001b[0m\u001b[1;33m\u001b[0m\u001b[0m\n\u001b[1;32m--> 172\u001b[1;33m     \u001b[0mrequest\u001b[0m \u001b[1;33m=\u001b[0m \u001b[0mRequest\u001b[0m\u001b[1;33m(\u001b[0m\u001b[0muri\u001b[0m\u001b[1;33m,\u001b[0m \u001b[1;34m\"r\"\u001b[0m \u001b[1;33m+\u001b[0m \u001b[0mmode\u001b[0m\u001b[1;33m,\u001b[0m \u001b[1;33m**\u001b[0m\u001b[0mkwargs\u001b[0m\u001b[1;33m)\u001b[0m\u001b[1;33m\u001b[0m\u001b[1;33m\u001b[0m\u001b[0m\n\u001b[0m\u001b[0;32m    173\u001b[0m \u001b[1;33m\u001b[0m\u001b[0m\n\u001b[0;32m    174\u001b[0m     \u001b[1;31m# Get format\u001b[0m\u001b[1;33m\u001b[0m\u001b[1;33m\u001b[0m\u001b[1;33m\u001b[0m\u001b[0m\n",
      "\u001b[1;32m~\\Anaconda3\\lib\\site-packages\\imageio\\core\\request.py\u001b[0m in \u001b[0;36m__init__\u001b[1;34m(self, uri, mode, **kwargs)\u001b[0m\n\u001b[0;32m    122\u001b[0m \u001b[1;33m\u001b[0m\u001b[0m\n\u001b[0;32m    123\u001b[0m         \u001b[1;31m# Parse what was given\u001b[0m\u001b[1;33m\u001b[0m\u001b[1;33m\u001b[0m\u001b[1;33m\u001b[0m\u001b[0m\n\u001b[1;32m--> 124\u001b[1;33m         \u001b[0mself\u001b[0m\u001b[1;33m.\u001b[0m\u001b[0m_parse_uri\u001b[0m\u001b[1;33m(\u001b[0m\u001b[0muri\u001b[0m\u001b[1;33m)\u001b[0m\u001b[1;33m\u001b[0m\u001b[1;33m\u001b[0m\u001b[0m\n\u001b[0m\u001b[0;32m    125\u001b[0m \u001b[1;33m\u001b[0m\u001b[0m\n\u001b[0;32m    126\u001b[0m         \u001b[1;31m# Set extension\u001b[0m\u001b[1;33m\u001b[0m\u001b[1;33m\u001b[0m\u001b[1;33m\u001b[0m\u001b[0m\n",
      "\u001b[1;32m~\\Anaconda3\\lib\\site-packages\\imageio\\core\\request.py\u001b[0m in \u001b[0;36m_parse_uri\u001b[1;34m(self, uri)\u001b[0m\n\u001b[0;32m    258\u001b[0m                 \u001b[1;31m# Reading: check that the file exists (but is allowed a dir)\u001b[0m\u001b[1;33m\u001b[0m\u001b[1;33m\u001b[0m\u001b[1;33m\u001b[0m\u001b[0m\n\u001b[0;32m    259\u001b[0m                 \u001b[1;32mif\u001b[0m \u001b[1;32mnot\u001b[0m \u001b[0mos\u001b[0m\u001b[1;33m.\u001b[0m\u001b[0mpath\u001b[0m\u001b[1;33m.\u001b[0m\u001b[0mexists\u001b[0m\u001b[1;33m(\u001b[0m\u001b[0mfn\u001b[0m\u001b[1;33m)\u001b[0m\u001b[1;33m:\u001b[0m\u001b[1;33m\u001b[0m\u001b[1;33m\u001b[0m\u001b[0m\n\u001b[1;32m--> 260\u001b[1;33m                     \u001b[1;32mraise\u001b[0m \u001b[0mFileNotFoundError\u001b[0m\u001b[1;33m(\u001b[0m\u001b[1;34m\"No such file: '%s'\"\u001b[0m \u001b[1;33m%\u001b[0m \u001b[0mfn\u001b[0m\u001b[1;33m)\u001b[0m\u001b[1;33m\u001b[0m\u001b[1;33m\u001b[0m\u001b[0m\n\u001b[0m\u001b[0;32m    261\u001b[0m             \u001b[1;32melse\u001b[0m\u001b[1;33m:\u001b[0m\u001b[1;33m\u001b[0m\u001b[1;33m\u001b[0m\u001b[0m\n\u001b[0;32m    262\u001b[0m                 \u001b[1;31m# Writing: check that the directory to write to does exist\u001b[0m\u001b[1;33m\u001b[0m\u001b[1;33m\u001b[0m\u001b[1;33m\u001b[0m\u001b[0m\n",
      "\u001b[1;31mFileNotFoundError\u001b[0m: No such file: 'C:\\Users\\cmentus\\Documents\\GitHub\\GenerativeModels\\step99.0.png'"
     ]
    }
   ],
   "source": [
    "anim_file=\"cyclegan_needs_work_lol.gif\"        \n",
    "with imageio.get_writer(anim_file, mode='I') as writer:\n",
    "    filenames = glob.glob('cycle*.png')\n",
    "    filenames = sorted(filenames)\n",
    "    for filename in filenames:\n",
    "        image = imageio.imread(filename)\n",
    "        writer.append_data(image)\n",
    "    image = imageio.imread(filename)\n",
    "    writer.append_data(image)"
   ]
  },
  {
   "cell_type": "markdown",
   "metadata": {},
   "source": [
    "# Challenge 3. Importance sampling GAN: Control = striped distribution. Test= Mixture of Gaussians."
   ]
  }
 ],
 "metadata": {
  "colab": {
   "collapsed_sections": [],
   "name": "WGANGP.ipynb",
   "provenance": []
  },
  "kernelspec": {
   "display_name": "Python 3",
   "language": "python",
   "name": "python3"
  },
  "language_info": {
   "codemirror_mode": {
    "name": "ipython",
    "version": 3
   },
   "file_extension": ".py",
   "mimetype": "text/x-python",
   "name": "python",
   "nbconvert_exporter": "python",
   "pygments_lexer": "ipython3",
   "version": "3.8.5"
  }
 },
 "nbformat": 4,
 "nbformat_minor": 4
}
