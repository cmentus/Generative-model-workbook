{
 "cells": [
  {
   "cell_type": "code",
   "execution_count": null,
   "metadata": {
    "id": "1UcPLanmdrG2"
   },
   "outputs": [],
   "source": [
    "import tensorflow as tf\n",
    "from tensorflow.keras import backend as K\n",
    "from tensorflow.keras import Model,layers, regularizers\n",
    "\n",
    "import numpy as np\n",
    "import time\n",
    "import pandas as pd\n",
    "from matplotlib import pyplot as plt"
   ]
  },
  {
   "cell_type": "markdown",
   "metadata": {
    "id": "JAVue5mRaZFi"
   },
   "source": [
    "# Constructing GAN\n",
    "## Define loss\n",
    "* Wasserstein loss\n",
    "* JS divergence"
   ]
  },
  {
   "cell_type": "code",
   "execution_count": null,
   "metadata": {
    "colab": {
     "base_uri": "https://localhost:8080/"
    },
    "id": "SurNVAnXNINh",
    "outputId": "54315042-7bdc-4010-e149-907aa188f0b2"
   },
   "outputs": [],
   "source": [
    "generator_encoded=keras.models.load_model(\"drive/MyDrive/GAN/generator_encoded_epoch300\")\n",
    "discriminator=keras.models.load_model(\"drive/MyDrive/GAN/discriminator_epoch300\")"
   ]
  },
  {
   "cell_type": "code",
   "execution_count": null,
   "metadata": {
    "id": "QOXGAun7d13Q"
   },
   "outputs": [],
   "source": [
    "wasserstein=True\n",
    "cross_entropy = keras.losses.BinaryCrossentropy(from_logits=True)\n",
    "if wasserstein==False:\n",
    "    def discriminator_loss(real_output, fake_output):\n",
    "        real_loss = cross_entropy(tf.ones_like(real_output), real_output) # sum over reals -real*log(P(real)) \n",
    "        fake_loss = cross_entropy(tf.zeros_like(fake_output), fake_output)# sum over fakes -log(1-Preal)\n",
    "        total_loss = real_loss + fake_loss\n",
    "        return total_loss\n",
    "    def generator_loss(fake_output):\n",
    "        return cross_entropy(tf.ones_like(fake_output), fake_output) #  sum over fakes - log(Preal)\n",
    "    generator_optimizer = tf.keras.optimizers.Adam(learning_rate=1e-4,beta_1=.5)\n",
    "    discriminator_optimizer = tf.keras.optimizers.Adam(learning_rate=1e-4,beta_1=.5)\n",
    "else:\n",
    "    def discriminator_loss(real_output, fake_output):\n",
    "        real_loss = -tf.reduce_mean(real_output)    #\n",
    "        fake_loss = tf.reduce_mean(fake_output) #smaller \n",
    "        total_loss = real_loss + fake_loss\n",
    "        return total_loss\n",
    "\n",
    "    def generator_loss(fake_output):\n",
    "        return -tf.reduce_mean(fake_output)\n",
    "    generator_optimizer = tf.keras.optimizers.Adam(learning_rate=1e-4,beta_1=.5)\n",
    "    discriminator_optimizer = tf.keras.optimizers.Adam(learning_rate=1e-4,beta_1=.5)\n"
   ]
  },
  {
   "cell_type": "markdown",
   "metadata": {
    "id": "KvY8xTVvLyrp"
   },
   "source": [
    "## Generator"
   ]
  },
  {
   "cell_type": "code",
   "execution_count": 54,
   "metadata": {
    "id": "u7l4zEXLd5yV"
   },
   "outputs": [],
   "source": [
    "#generator is our generator model\n",
    "def make_generator(n_output, n_input = 100, hidden_widths = [128,128,128],minibatch_avg=True):\n",
    "    ''' Make generator for data of data_dim number of fields. The input_dim represents the noise but could be used for style transfer.\n",
    "    gen_hidden_widths are the widths of the hidden layers of the nn'''\n",
    "    gen_input_layer = layers.Input(shape=(n_input,),name=\"GeneratorInput\")\n",
    "    gen_input_batch_norm=layers.BatchNormalization(name=\"GenBNInput\")(gen_input_layer)\n",
    "\n",
    "\n",
    "    gen_hidden_layers=[layers.Dense(units=hidden_widths[0],activation=tf.nn.relu,name=\"GenHiddenLayer0\")(gen_input_batch_norm)]\n",
    "\n",
    "    for i in range(1,len(hidden_widths)):\n",
    "        gen_hidden_layers=gen_hidden_layers+[layers.BatchNormalization(name=\"GenBNLayer\"+str(i))(gen_hidden_layers[-1])]\n",
    "        gen_hidden_layers=gen_hidden_layers+[layers.Dense(units=hidden_widths[i],activation=tf.nn.leaky_relu,\n",
    "                                                          name=\"GenHiddenLayer\"+str(i))(gen_hidden_layers[-1])]\n",
    "        gen_hidden_layers=gen_hidden_layers+\\\n",
    "        [layers.Add(name=\"GenSkipLayer\"+str(i))((gen_hidden_layers[-1],gen_hidden_layers[-3]))]\n",
    "\n",
    "\n",
    "    gen_output=layers.Dense(units=n_output,activation=tf.keras.activations.linear,\n",
    "                                                          name=\"GenOutput\")(gen_hidden_layers[-1])\n",
    "    if(minibatch_avg):\n",
    "        gen_output_avg=tf.reduce_mean(gen_output,axis=0,keepdims=True,name=\"GenOutputAverage\")*\\\n",
    "        tf.ones(shape=tf.shape(gen_output))\n",
    "\n",
    "        generator=keras.Model(\n",
    "            inputs=[gen_input_layer],\n",
    "            outputs=[gen_output,gen_output_avg],\n",
    "        )\n",
    "        return generator\n",
    "    else:\n",
    "        generator=keras.Model(\n",
    "            inputs=[gen_input_layer],\n",
    "            outputs=[gen_output],\n",
    "        )\n",
    "        return generator\n",
    "        \n",
    "\n"
   ]
  },
  {
   "cell_type": "code",
   "execution_count": 56,
   "metadata": {},
   "outputs": [
    {
     "data": {
      "image/png": "[encoded data removed]",
      "text/plain": [
       "<IPython.core.display.Image object>"
      ]
     },
     "execution_count": 56,
     "metadata": {},
     "output_type": "execute_result"
    }
   ],
   "source": [
    "generator = make_generator(n_output = 1,n_input = 100, hidden_widths=[128])\n",
    "keras.utils.plot_model(generator, \"images/generator_test0.png\")\n",
    "generator1 = make_generator(n_output = 1,n_input = 100, hidden_widths=[128],minibatch_avg=False)\n",
    "keras.utils.plot_model(generator1, \"images/generator_test1.png\")"
   ]
  },
  {
   "cell_type": "markdown",
   "metadata": {
    "id": "k4G0vfJIwn_X"
   },
   "source": [
    "## Discriminator"
   ]
  },
  {
   "cell_type": "code",
   "execution_count": 47,
   "metadata": {
    "id": "zDQjYaLZd8Ct"
   },
   "outputs": [],
   "source": [
    "disc_hidden_widths=[128,256,256]\n",
    "def make_discriminator(n_input, gan_type = \"W\",hidden_widths = [128,128,128],minibatch_avg=True):\n",
    "    if minibatch_avg:\n",
    "        disc_input_layer=layers.Input(shape=(n_input,),name=\"DiscriminatorInput\")\n",
    "        disc_avg_input_layer=layers.Input(shape=(n_input,),name=\"DiscriminatorAverageInput\")\n",
    "        disc_allinput=layers.Concatenate(name=\"DiscriminatorAllInput\")((disc_input_layer,\n",
    "                                                                                    disc_avg_input_layer,\n",
    "                                                                                   ))\n",
    "    else:\n",
    "        disc_allinput=layers.Input(shape=(n_input,),name=\"DiscriminatorAllInput\")\n",
    "    \n",
    "    disc_hidden_layers=[layers.Dense(units=disc_hidden_widths[0],activation=tf.nn.leaky_relu,name=\"DiscHiddenLayer0\")(disc_allinput)]\n",
    "\n",
    "    for i in range(1,len(disc_hidden_widths)):\n",
    "        disc_hidden_layers=disc_hidden_layers+\\\n",
    "        [layers.Dense(units=disc_hidden_widths[i],activation=tf.nn.leaky_relu,name=\"DiscHiddenLayer\"+str(i))(disc_hidden_layers[-1])]\n",
    "    if gan_type==\"JS\":\n",
    "        disc_output=layers.Dense(units=1,activation=tf.nn.sigmoid,name=\"DiscriminatorOutput\")(disc_hidden_layers[-1])\n",
    "    if gan_type==\"W\":\n",
    "        disc_output=layers.Dense(units=1,activation=tf.keras.activations.linear,name=\"DiscriminatorOutput\")(disc_hidden_layers[-1])\n",
    "    \n",
    "    if minibatch_avg:\n",
    "        discriminator=keras.Model(\n",
    "            inputs=[disc_input_layer,disc_avg_input_layer],\n",
    "            outputs=[disc_output]\n",
    "        )\n",
    "        return discriminator\n",
    "    else:\n",
    "        discriminator=keras.Model(\n",
    "            inputs=disc_allinput,\n",
    "            outputs=[disc_output]\n",
    "        )\n",
    "        return discriminator\n",
    "        "
   ]
  },
  {
   "cell_type": "code",
   "execution_count": 50,
   "metadata": {},
   "outputs": [
    {
     "data": {
      "image/png": "[encoded data removed]",
      "text/plain": [
       "<IPython.core.display.Image object>"
      ]
     },
     "execution_count": 50,
     "metadata": {},
     "output_type": "execute_result"
    }
   ],
   "source": [
    "discriminator = make_discriminator(n_input=10, gan_type = \"W\",hidden_widths = [128,128,128],minibatch_avg=True)\n",
    "keras.utils.plot_model(discriminator, \"images/discriminator_test0.png\")\n",
    "discriminator1 = make_discriminator(n_input=10, gan_type = \"W\",hidden_widths = [128,128,128],minibatch_avg=False)\n",
    "keras.utils.plot_model(discriminator1, \"images/discriminator_test1.png\")"
   ]
  },
  {
   "cell_type": "markdown",
   "metadata": {
    "id": "tMmSN3betjuL"
   },
   "source": [
    "# Training loop for Generator Discriminator pair"
   ]
  },
  {
   "cell_type": "code",
   "execution_count": null,
   "metadata": {
    "id": "EiEewYYDeBPd"
   },
   "outputs": [],
   "source": [
    "# THIS APPLIES GRADIENT PENALTY THE OTHER ONE DOESN'T\n",
    "#@tf.function \n",
    "def train_step(latent_data,step,GP_rate):\n",
    "    batch_shape=tf.shape(latent_data)\n",
    "    noise = tf.random.normal([batch_shape[0], noise_dim])\n",
    "    \n",
    "    uniform_rand = tf.random.uniform(shape=batch_shape, maxval=1)\n",
    "    mask_fake = uniform_rand #tf.math.greater(.5, uniform_rand)\n",
    "    mask_fake = tf.cast(mask_fake,\"float32\")\n",
    "    mask_real = (1.-mask_fake)\n",
    "\n",
    "    for d_train_i in range(5):\n",
    "        with tf.GradientTape() as disc_tape:\n",
    "            generated_data = generator_encoded(noise,training=True)\n",
    "            latent_avg = tf.reduce_mean(latent_data,axis = 0)*\\\n",
    "            tf.ones(shape = np.shape(latent_data),dtype = \"float32\")\n",
    "            fake_output = discriminator(generated_data, training=True)\n",
    "            real_output = discriminator((latent_data,latent_avg), training=True)\n",
    "            gen_loss = generator_loss(fake_output)\n",
    "            \n",
    "            mixed_real_fake = (mask_fake*generated_data[0] + mask_real*latent_data,\\\n",
    "                               mask_fake*generated_data[1] + mask_real*latent_avg)\n",
    "            with tf.GradientTape() as g:\n",
    "                g.watch(mixed_real_fake)\n",
    "                y = discriminator(mixed_real_fake)\n",
    "            disc_gradient = g.gradient(y, mixed_real_fake)\n",
    "            gradient_penalty = tf.reduce_mean(tf.square(\n",
    "                tf.sqrt(tf.reduce_sum(tf.square(tf.concat(disc_gradient,axis=1)),axis=1))\\\n",
    "                - tf.ones(shape=(batch_shape[0],1))))\n",
    "            \n",
    "            disc_loss = discriminator_loss(real_output, fake_output) + GP_rate*gradient_penalty\n",
    "            #print(gradient_penalty)\n",
    "        \n",
    "        gradients_of_discriminator = disc_tape.gradient(disc_loss, discriminator.trainable_variables)\n",
    "        discriminator_optimizer.apply_gradients(zip(gradients_of_discriminator, discriminator.trainable_variables))\n",
    "    for g_train_i in range(1):\n",
    "        with tf.GradientTape() as gen_tape:\n",
    "            generated_data = generator_encoded(noise,training=True)\n",
    "            latent_avg = tf.reduce_mean(latent_data,axis = 0)*\\\n",
    "            tf.ones(shape = np.shape(latent_data),dtype = \"float32\")\n",
    "\n",
    "            fake_output = discriminator(generated_data, training=True)\n",
    "            real_output = discriminator((latent_data,latent_avg), training=True)\n",
    "            gen_loss = generator_loss(fake_output)\n",
    "            #disc_loss = discriminator_loss(real_output, fake_output)\n",
    "\n",
    "        gradients_of_generator = gen_tape.gradient(gen_loss, generator_encoded.trainable_variables)\n",
    "        generator_optimizer.apply_gradients(zip(gradients_of_generator, generator_encoded.trainable_variables))\n",
    "    return float(gen_loss),float(disc_loss)"
   ]
  },
  {
   "cell_type": "code",
   "execution_count": null,
   "metadata": {
    "colab": {
     "base_uri": "https://localhost:8080/"
    },
    "id": "cwjcK_lYY70k",
    "outputId": "1a1be413-9c8c-4961-eef2-79cbee53fe2e"
   },
   "outputs": [],
   "source": []
  },
  {
   "cell_type": "markdown",
   "metadata": {
    "id": "gBkA5EIWtoj4"
   },
   "source": [
    "# Training\n",
    "## train the autoencoder"
   ]
  },
  {
   "cell_type": "code",
   "execution_count": null,
   "metadata": {
    "colab": {
     "base_uri": "https://localhost:8080/"
    },
    "id": "0K9t1CVSttFu",
    "outputId": "5c59131d-4f69-4631-b625-27819d74fb72"
   },
   "outputs": [],
   "source": [
    "\n",
    "epoch=0\n",
    "generator_encoded.save('generator_encoded'+str(epoch))\n",
    "discriminator.save('discriminator'+str(epoch))"
   ]
  },
  {
   "cell_type": "code",
   "execution_count": null,
   "metadata": {
    "id": "9tKG-noQeOv3"
   },
   "outputs": [],
   "source": [
    "noise_dim=100\n",
    "SAMPLE_NOISE=tf.random.normal([50000, noise_dim])\n",
    "def train(data_batches,epochs,GP_rate,start_epoch):\n",
    "    for epoch in range(epochs):\n",
    "        start = time.time()\n",
    "        for step,data_batch in enumerate(data_batches):\n",
    "            gen_loss,disc_loss=train_step(data_batch,step,GP_rate)\n",
    "        print(\"Generator Loss \",gen_loss,\"Discriminator Loss \",disc_loss)\n",
    "\n",
    "\n",
    "        #Visualization\n",
    "        g_test=generator_encoded(tf.constant(SAMPLE_NOISE,dtype=\"float32\"))[0].numpy()\n",
    "        \n",
    "        if epoch % 5==0:\n",
    "            f,ax=plt.subplots(2,2,figsize=(10,10))\n",
    "            for i in range(n_compression-1):\n",
    "                ax[i % 2,int(np.floor(i/2))].scatter(latent_data[:10000,i],latent_data[:10000,i+1],alpha=.1,label=\"Real Data\")\n",
    "                ax[i % 2,int(np.floor(i/2))].scatter(g_test[:10000,i],g_test[:10000,i+1],color=\"magenta\",s=1,label=\"Synthetic Data\")\n",
    "                ax[i % 2,int(np.floor(i/2))].set_xlim(np.min(latent_data[:1000,i]),np.max(latent_data[:1000,i]))\n",
    "                ax[i % 2,int(np.floor(i/2))].set_ylim(np.min(latent_data[:1000,i+1]),np.max(latent_data[:1000,i+1]))\n",
    "            ax[i % 2,int(np.floor(i/2))].legend()\n",
    "            f.tight_layout()\n",
    "            f.subplots_adjust(top=0.95)\n",
    "            f.suptitle(\"Latent Space\",fontsize=20)\n",
    "            \n",
    "            plt.savefig(\"drive/MyDrive/GAN/latent_anim/latent_epoch\"+str(start_epoch+epoch)+\".png\")\n",
    "        if epoch % 20==0:\n",
    "            synthetic_data=\\\n",
    "            decoder.predict(g_test)\n",
    "            synthetic_data1=array_to_data(synthetic_data[0],synthetic_data[1],\n",
    "            np.max(cont_data,axis=0),\n",
    "            np.min(cont_data,axis=0))\n",
    "            synth_continuous=synthetic_data1[0]\n",
    "            synth_binary=synthetic_data1[1]\n",
    "\n",
    "            f,ax=plt.subplots(1,2,figsize=(20,5))\n",
    "            ax[0].set_title(\"Synthetic Data\",fontsize=20)\n",
    "            ax[0].hist(synth_continuous[(synth_binary[:,2]==1)&(synth_binary[:,0]==0),0],bins=100)\n",
    "            ax[0].hist(synth_continuous[(synth_binary[:,2]==1)&(synth_binary[:,0]==1),0],bins=100)\n",
    "            ax[0].set_xlabel(\"Age\",fontsize=20)\n",
    "\n",
    "            ax[1].set_title(\"Real Data\",fontsize=20)\n",
    "            cont_df[(binary_df.GENDER==False)&(binary_df.death)].Age.plot(kind=\"hist\",bins=100,ax=ax[1],label=\"Male\")\n",
    "            cont_df[(binary_df.GENDER)&(binary_df.death)].Age.plot(kind=\"hist\",bins=100,ax=ax[1],label=\"Female\")\n",
    "            ax[1].set_xlabel(\"Age\",fontsize=20)\n",
    "            f.suptitle(\"COVID-19 Mortality by Age and Gender\",fontsize=20)\n",
    "            f.savefig(\"drive/MyDrive/GAN/mortality_anim/mortality_epoch\"+str(start_epoch+epoch)+\".png\")\n",
    "\n",
    "        if epoch % 100==0:\n",
    "            generator_encoded.save('drive/MyDrive/GAN/generator_encoded_epoch'+str(start_epoch+epoch))\n",
    "            discriminator.save('drive/MyDrive/GAN/discriminator_epoch'+str(start_epoch+epoch))\n",
    "        print ('Time for epoch {} is {} sec'.format(epoch + 1, time.time()-start))"
   ]
  },
  {
   "cell_type": "code",
   "execution_count": null,
   "metadata": {
    "colab": {
     "base_uri": "https://localhost:8080/"
    },
    "id": "o5pXe2pdJ-F2",
    "outputId": "930f5941-1485-446d-c57b-4982b9618f09"
   },
   "outputs": [],
   "source": [
    "latent_data\n",
    "generator_encoded(tf.constant(SAMPLE_NOISE,dtype=\"float32\"))\n",
    "generator_encoded(tf.constant(SAMPLE_NOISE,dtype=\"float32\"))[0].numpy()"
   ]
  },
  {
   "cell_type": "code",
   "execution_count": null,
   "metadata": {
    "colab": {
     "base_uri": "https://localhost:8080/"
    },
    "id": "TCGgZigpeVM6",
    "outputId": "2853a374-ebb6-42be-8b8a-8bc1cdc357f4"
   },
   "outputs": [],
   "source": [
    "latent_data"
   ]
  },
  {
   "cell_type": "code",
   "execution_count": null,
   "metadata": {
    "colab": {
     "base_uri": "https://localhost:8080/"
    },
    "id": "ce13HC4DeRFl",
    "outputId": "a1b587ee-064e-49dc-f7c1-ee2def113750"
   },
   "outputs": [],
   "source": [
    "#latent_data=latent_data.astype(np.float32)\n",
    "latent_data=tf.random.shuffle(latent_data)\n",
    "BUFFER_SIZE = 60000\n",
    "BATCH_SIZE = 20000\n",
    "EPOCHS=3\n",
    "# Batch and shuffle the data\n",
    "data_batches = tf.data.Dataset.from_tensor_slices(latent_data).shuffle(BUFFER_SIZE).batch(BATCH_SIZE)\n",
    "n_compression"
   ]
  },
  {
   "cell_type": "code",
   "execution_count": null,
   "metadata": {
    "colab": {
     "base_uri": "https://localhost:8080/"
    },
    "id": "5NqHb6VWoSs2",
    "outputId": "e9714d9e-cf85-46eb-9cfa-ecfaf776fbbe"
   },
   "outputs": [],
   "source": [
    "latent_data"
   ]
  },
  {
   "cell_type": "code",
   "execution_count": null,
   "metadata": {
    "colab": {
     "base_uri": "https://localhost:8080/"
    },
    "id": "xb2XANIAnmCe",
    "outputId": "919bac1e-4a98-4ca9-9f9e-ea4c461105b3"
   },
   "outputs": [],
   "source": [
    "synthetic_data1=array_to_data(synthetic_data[0],synthetic_data[1],\n",
    "np.max(cont_data,axis=0),\n",
    "np.min(cont_data,axis=0))\n",
    "synthetic_data1[0]"
   ]
  },
  {
   "cell_type": "code",
   "execution_count": null,
   "metadata": {
    "colab": {
     "base_uri": "https://localhost:8080/",
     "height": 1000
    },
    "id": "IF0IASzdfCzq",
    "outputId": "b98841b9-f47d-4705-852e-c1af05180933"
   },
   "outputs": [],
   "source": [
    "train(data_batches,900,10,start_epoch=2201)\n",
    "import shutil\n",
    "#for i in range(1200,1700):\n",
    "#    if i % 5 ==0:\n",
    "#        shutil.move(\"latent_epoch\"+str(i)+\".png\",\"drive/MyDrive/GAN/latent_anim\")\n",
    "#    if i % 20 ==0:\n",
    "#        shutil.move(\"mortality_epoch\"+str(i)+\".png\",\"drive/MyDrive/GAN/mortality_anim\")"
   ]
  },
  {
   "cell_type": "code",
   "execution_count": null,
   "metadata": {
    "id": "C_Omq2XtPzTm"
   },
   "outputs": [],
   "source": [
    "for i in range(300,400):\n",
    "    if i % 5 ==0:\n",
    "        shutil.move(\"latent_epoch\"+str(i)+\".png\",\"drive/MyDrive/GAN/latent_anim\")\n",
    "    if i % 20 ==0:\n",
    "        shutil.move(\"mortality_epoch\"+str(i)+\".png\",\"drive/MyDrive/GAN/mortality_anim\")"
   ]
  },
  {
   "cell_type": "code",
   "execution_count": null,
   "metadata": {
    "colab": {
     "base_uri": "https://localhost:8080/",
     "height": 396
    },
    "id": "R2GmsS4PwHss",
    "outputId": "b7971b17-6fc5-4f05-e463-288da07d532d"
   },
   "outputs": [],
   "source": [
    "synthetic_data=\\\n",
    "decoder.predict(generator_encoded(tf.constant(SAMPLE_NOISE,dtype=\"float32\"))[0].numpy())\n",
    "synthetic_data1=array_to_data(synthetic_data[0],synthetic_data[1],\n",
    "np.max(cont_data,axis=0),\n",
    "np.min(cont_data,axis=0))\n",
    "synth_continuous=synthetic_data1[0]\n",
    "synth_binary=synthetic_data1[1]\n",
    "f,ax=plt.subplots(1,2,figsize=(20,5))\n",
    "ax[0].set_title(\"Synthetic Data\",fontsize=20)\n",
    "ax[0].hist(synth_continuous[(synth_binary[:,2]==1)&(synth_binary[:,0]==0),0],bins=100)\n",
    "ax[0].hist(synth_continuous[(synth_binary[:,2]==1)&(synth_binary[:,0]==1),0],bins=100)\n",
    "ax[0].set_xlabel(\"Age\",fontsize=20)\n",
    "\n",
    "ax[1].set_title(\"Real Data\",fontsize=20)\n",
    "cont_df[(binary_df.GENDER==False)&(binary_df.death)].Age.plot(kind=\"hist\",bins=100,ax=ax[1],label=\"Male\")\n",
    "cont_df[(binary_df.GENDER)&(binary_df.death)].Age.plot(kind=\"hist\",bins=100,ax=ax[1],label=\"Female\")\n",
    "ax[1].set_xlabel(\"Age\",fontsize=20)\n",
    "f.suptitle(\"COVID-19 Mortality by Age and Gender\",fontsize=20)"
   ]
  },
  {
   "cell_type": "markdown",
   "metadata": {
    "id": "3f5HwjwF9CQU"
   },
   "source": [
    "# New section"
   ]
  },
  {
   "cell_type": "code",
   "execution_count": null,
   "metadata": {
    "colab": {
     "base_uri": "https://localhost:8080/",
     "height": 239
    },
    "id": "Tenq0btBgZh-",
    "outputId": "1dd9b926-5eac-4977-d530-78f50e549c22"
   },
   "outputs": [],
   "source": [
    "sample_noise=tf.random.normal([100000, NOISE_DIM])\n",
    "g_test=generator_encoded(tf.constant(sample_noise,dtype=\"float32\"))\n",
    "plt.figure(figsize=(10,10))\n",
    "pd.Series(g_test[0][g_test[0]>0].numpy().flatten()).plot(kind=\"hist\",bins=200)\n",
    "plt.figure(figsize=(10,10))\n",
    "pd.Series(latent_data[:100000,:].flatten()).plot(kind=\"hist\",bins=200)"
   ]
  },
  {
   "cell_type": "code",
   "execution_count": null,
   "metadata": {
    "colab": {
     "base_uri": "https://localhost:8080/",
     "height": 459
    },
    "id": "YAjeAkDK6JXJ",
    "outputId": "3e00d605-7050-4638-d346-5479dc3241e5"
   },
   "outputs": [],
   "source": []
  },
  {
   "cell_type": "code",
   "execution_count": null,
   "metadata": {
    "colab": {
     "base_uri": "https://localhost:8080/"
    },
    "id": "OlhRP-0DtDW0",
    "outputId": "3754fb68-696f-4a46-cc69-4671c52784c1"
   },
   "outputs": [],
   "source": [
    "loaded_gen=keras.models.load_model('generator_encoded_epoch0')"
   ]
  },
  {
   "cell_type": "code",
   "execution_count": null,
   "metadata": {
    "colab": {
     "base_uri": "https://localhost:8080/"
    },
    "id": "DW2IRzJAtLaH",
    "outputId": "33c908e1-952a-4f17-87bc-299280c8c319"
   },
   "outputs": [],
   "source": [
    "import imageio, glob\n",
    "anim_file = 'drive/MyDrive/GAN/latent.gif'\n",
    "i=0\n",
    "with imageio.get_writer(anim_file, mode='I') as writer:\n",
    "    filenames = glob.glob(\\\n",
    "                        'drive/MyDrive/GAN/latent_anim/latent_epoch*.png')\n",
    "    filenames.sort(key=lambda x: int(x[len(\"drive/MyDrive/GAN/latent_anim/latent_epoch\"):-4]))\n",
    "    for filename in filenames:\n",
    "        if (i<500)&(i%2==0):\n",
    "            print(i)\n",
    "            image = imageio.imread(filename)\n",
    "            writer.append_data(image)\n",
    "        i=i+1\n",
    "    image = imageio.imread(filename)\n",
    "    writer.append_data(image)"
   ]
  },
  {
   "cell_type": "code",
   "execution_count": null,
   "metadata": {
    "id": "10MDb_4qsd2K"
   },
   "outputs": [],
   "source": [
    "list(map(lambda x: int(x[len(\"drive/MyDrive/GAN/latent_anim/latent_epoch\"):-4]),filenames))\n",
    "\n"
   ]
  },
  {
   "cell_type": "code",
   "execution_count": null,
   "metadata": {
    "colab": {
     "base_uri": "https://localhost:8080/"
    },
    "id": "JAQxkVKmuJL1",
    "outputId": "fa15d748-ca4b-4115-ab9f-b6ae1a2a997e"
   },
   "outputs": [],
   "source": [
    "filenames"
   ]
  }
 ],
 "metadata": {
  "colab": {
   "collapsed_sections": [],
   "name": "WGANGP.ipynb",
   "provenance": []
  },
  "kernelspec": {
   "display_name": "Python 3",
   "language": "python",
   "name": "python3"
  },
  "language_info": {
   "codemirror_mode": {
    "name": "ipython",
    "version": 3
   },
   "file_extension": ".py",
   "mimetype": "text/x-python",
   "name": "python",
   "nbconvert_exporter": "python",
   "pygments_lexer": "ipython3",
   "version": "3.8.5"
  }
 },
 "nbformat": 4,
 "nbformat_minor": 4
}
